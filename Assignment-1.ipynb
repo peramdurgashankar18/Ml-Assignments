{
  "nbformat": 4,
  "nbformat_minor": 0,
  "metadata": {
    "colab": {
      "provenance": [],
      "authorship_tag": "ABX9TyMJ4cg8VoEwVFKGqm/JSTMB",
      "include_colab_link": true
    },
    "kernelspec": {
      "name": "python3",
      "display_name": "Python 3"
    },
    "language_info": {
      "name": "python"
    }
  },
  "cells": [
    {
      "cell_type": "markdown",
      "metadata": {
        "id": "view-in-github",
        "colab_type": "text"
      },
      "source": [
        "<a href=\"https://colab.research.google.com/github/peramdurgashankar18/Ml-Assignments/blob/main/Assignment-1.ipynb\" target=\"_parent\"><img src=\"https://colab.research.google.com/assets/colab-badge.svg\" alt=\"Open In Colab\"/></a>"
      ]
    },
    {
      "cell_type": "markdown",
      "source": [
        "# Assignment-1"
      ],
      "metadata": {
        "id": "9imyia89s6LR"
      }
    },
    {
      "cell_type": "code",
      "source": [
        "import numpy as np"
      ],
      "metadata": {
        "id": "AovFmdRDqNtA"
      },
      "execution_count": 3,
      "outputs": []
    },
    {
      "cell_type": "markdown",
      "source": [],
      "metadata": {
        "id": "lvC5rXI59dIS"
      }
    },
    {
      "cell_type": "markdown",
      "source": [
        "1.Perform arithmetic operations on NumPy arrays"
      ],
      "metadata": {
        "id": "UIipJBdg9gOP"
      }
    },
    {
      "cell_type": "code",
      "source": [
        "arr1=np.array([1,2,3,4,5])\n",
        "arr2=np.array([6,7,8,9,10])\n",
        "print(arr1+arr2)\n"
      ],
      "metadata": {
        "colab": {
          "base_uri": "https://localhost:8080/"
        },
        "id": "KSmf8S5sqUEI",
        "outputId": "0659e8f7-a83e-45ff-df1c-d1eb25fb85cf"
      },
      "execution_count": 4,
      "outputs": [
        {
          "output_type": "stream",
          "name": "stdout",
          "text": [
            "[ 7  9 11 13 15]\n"
          ]
        }
      ]
    },
    {
      "cell_type": "markdown",
      "source": [
        "2.Write a script to compute the mean and standard deviation of a NumPy array"
      ],
      "metadata": {
        "id": "ncIFfTgV-A0_"
      }
    },
    {
      "cell_type": "code",
      "source": [
        "data = np.array([1, 2, 3, 4, 5])\n",
        "mean = np.mean(data)\n",
        "std_dev = np.std(data)\n",
        "print(\"Mean:\", mean)\n",
        "print(\"Standard Deviation:\", std_dev)"
      ],
      "metadata": {
        "colab": {
          "base_uri": "https://localhost:8080/"
        },
        "id": "7-icV7VJqT8D",
        "outputId": "5c775aca-2ed8-4883-9348-23d718ad74e1"
      },
      "execution_count": 5,
      "outputs": [
        {
          "output_type": "stream",
          "name": "stdout",
          "text": [
            "Mean: 3.0\n",
            "Standard Deviation: 1.4142135623730951\n"
          ]
        }
      ]
    },
    {
      "cell_type": "markdown",
      "source": [
        "3.Create a NumPy array of integers from 10 to 50 with a step size of 5"
      ],
      "metadata": {
        "id": "9cqdjn1K-X-g"
      }
    },
    {
      "cell_type": "code",
      "source": [
        "array = np.arange(10, 50, 5)\n",
        "print(array)"
      ],
      "metadata": {
        "colab": {
          "base_uri": "https://localhost:8080/"
        },
        "id": "VysqAVGh-Xj8",
        "outputId": "83b5545e-da97-47eb-8855-3290becbfbaf"
      },
      "execution_count": 13,
      "outputs": [
        {
          "output_type": "stream",
          "name": "stdout",
          "text": [
            "[10 15 20 25 30 35 40 45]\n"
          ]
        }
      ]
    },
    {
      "cell_type": "markdown",
      "source": [
        "4.Reshape the array into a 2x4 matrix"
      ],
      "metadata": {
        "id": "MWDCMt7wK8Yn"
      }
    },
    {
      "cell_type": "code",
      "source": [
        "reshaped_array = array.reshape(2, 4)\n",
        "print(reshaped_array)"
      ],
      "metadata": {
        "id": "U_hErInvK7ty",
        "outputId": "880bdaa9-478f-4d62-e1a2-4bbcd69d5c6f",
        "colab": {
          "base_uri": "https://localhost:8080/"
        }
      },
      "execution_count": 14,
      "outputs": [
        {
          "output_type": "stream",
          "name": "stdout",
          "text": [
            "[[10 15 20 25]\n",
            " [30 35 40 45]]\n"
          ]
        }
      ]
    },
    {
      "cell_type": "markdown",
      "source": [
        "5.Given the array arr = np.array([[1, 2, 3], [4, 5, 6], [7, 8, 9]]):\n",
        "• Extract the sub-matrix containing the last two rows and first two columns.\n",
        "• Replace all elements greater than 4 with 0.\n"
      ],
      "metadata": {
        "id": "28qtLu1_MUwA"
      }
    },
    {
      "cell_type": "code",
      "source": [
        "array = np.array([[1, 2, 3], [4, 5, 6], [7, 8, 9]])\n",
        "sub_matrix = array[1:, :2]\n",
        "print(sub_matrix)\n",
        "array[array > 4] = 0\n",
        "print(array)"
      ],
      "metadata": {
        "id": "DtayFelGMf_h",
        "outputId": "75b31842-8d67-4495-b309-222da88b2b95",
        "colab": {
          "base_uri": "https://localhost:8080/"
        }
      },
      "execution_count": 18,
      "outputs": [
        {
          "output_type": "stream",
          "name": "stdout",
          "text": [
            "[[4 5]\n",
            " [7 8]]\n",
            "[[1 2 3]\n",
            " [4 0 0]\n",
            " [0 0 0]]\n"
          ]
        }
      ]
    },
    {
      "cell_type": "markdown",
      "source": [
        "Create two 1D arrays:\n",
        "• a = np.array([1, 2, 3])\n",
        "• b = np.array([4, 5, 6])\n",
        "• Perform element-wise addition, multiplication, and division"
      ],
      "metadata": {
        "id": "GYzWQUF-NQwM"
      }
    },
    {
      "cell_type": "code",
      "source": [
        "a=np.array([1,2,3])\n",
        "b=np.array([4,5,6])\n",
        "print(a+b)\n",
        "print(a*b)\n",
        "print(a/b)"
      ],
      "metadata": {
        "id": "zW-ma6gLNOIP",
        "outputId": "8d98b542-cd90-4d4c-c81b-1464721d166c",
        "colab": {
          "base_uri": "https://localhost:8080/"
        }
      },
      "execution_count": 19,
      "outputs": [
        {
          "output_type": "stream",
          "name": "stdout",
          "text": [
            "[5 7 9]\n",
            "[ 4 10 18]\n",
            "[0.25 0.4  0.5 ]\n"
          ]
        }
      ]
    },
    {
      "cell_type": "markdown",
      "source": [
        "7. Create a random NumPy array of size (4, 4). Compute:\n",
        "• Mean of each column.\n",
        "• Maximum value of the entire array.\n",
        "• Sum of all elements"
      ],
      "metadata": {
        "id": "5aA7c3A4Nu0U"
      }
    },
    {
      "cell_type": "code",
      "source": [
        "random_array = np.random.rand(4, 4)\n",
        "mean_of_columns = np.mean(random_array, axis=0)\n",
        "max_value = np.max(random_array)\n",
        "sum_of_elements = np.sum(random_array)\n",
        "print(mean_of_columns)\n",
        "print(max_value)\n",
        "print(sum_of_elements)"
      ],
      "metadata": {
        "id": "0x0gnML2Nucv",
        "outputId": "95d1fc56-7e5a-4564-bd63-38878236b43f",
        "colab": {
          "base_uri": "https://localhost:8080/"
        }
      },
      "execution_count": 22,
      "outputs": [
        {
          "output_type": "stream",
          "name": "stdout",
          "text": [
            "[0.51431119 0.76468682 0.52110719 0.36184036]\n",
            "0.9988371928803943\n",
            "8.647782222329859\n"
          ]
        }
      ]
    },
    {
      "cell_type": "markdown",
      "source": [
        "8.Given the array arr = np.array([1, 2, 3, 4]), add 10 to each element and multiply\n",
        "the result by 2."
      ],
      "metadata": {
        "id": "6MpIb-PLOZ6e"
      }
    },
    {
      "cell_type": "code",
      "source": [
        "arr = np.array([1, 2, 3, 4])\n",
        "result = (arr + 10) * 2\n",
        "print(result)"
      ],
      "metadata": {
        "id": "fvuL-3q1OLUy",
        "outputId": "db3f8935-c84a-4913-a839-ece089c0b69f",
        "colab": {
          "base_uri": "https://localhost:8080/"
        }
      },
      "execution_count": 23,
      "outputs": [
        {
          "output_type": "stream",
          "name": "stdout",
          "text": [
            "[22 24 26 28]\n"
          ]
        }
      ]
    },
    {
      "cell_type": "markdown",
      "source": [
        "9.. Perform advanced slicing and indexing on a 3D array.\n",
        "Create a 3D NumPy array arr of shape (3, 4, 5) with random integers ranging from\n",
        "1 to 100. Perform the following:\n",
        "• Extract the second \"layer\" (i.e., the second 2D array) in the first dimension.\n",
        "• Extract the first two rows and the last three columns from each \"layer.\"\n",
        "• Replace all elements divisible by 3 with -1"
      ],
      "metadata": {
        "id": "ilrxJumKOvg8"
      }
    },
    {
      "cell_type": "code",
      "source": [
        "arr = np.random.randint(1, 101, size=(3, 4, 5))\n",
        "second_layer = arr[1]\n",
        "print(second_layer)\n",
        "first_two_rows_last_three_columns = arr[:, :2, -3:]\n",
        "print(first_two_rows_last_three_columns)\n",
        "arr[arr % 3 == 0] = -1\n",
        "print(arr)\n"
      ],
      "metadata": {
        "id": "FvUqh6h5O4sK",
        "outputId": "3fde5f35-a570-47af-e351-3a18525579f1",
        "colab": {
          "base_uri": "https://localhost:8080/"
        }
      },
      "execution_count": 27,
      "outputs": [
        {
          "output_type": "stream",
          "name": "stdout",
          "text": [
            "[[ 69  10  25  27  45]\n",
            " [ 97  39  31  72  32]\n",
            " [ 58  17  56  39  29]\n",
            " [ 30  97  99 100  50]]\n",
            "[[[39 83 21]\n",
            "  [ 8 42 83]]\n",
            "\n",
            " [[25 27 45]\n",
            "  [31 72 32]]\n",
            "\n",
            " [[24 27 47]\n",
            "  [80 77 54]]]\n",
            "[[[ -1  67  -1  83  -1]\n",
            "  [ -1  70   8  -1  83]\n",
            "  [ 53  91  38  40  25]\n",
            "  [ 98   2  -1  -1  -1]]\n",
            "\n",
            " [[ -1  10  25  -1  -1]\n",
            "  [ 97  -1  31  -1  32]\n",
            "  [ 58  17  56  -1  29]\n",
            "  [ -1  97  -1 100  50]]\n",
            "\n",
            " [[ 76  13  -1  -1  47]\n",
            "  [ -1  25  80  77  -1]\n",
            "  [ -1  -1  -1  97  -1]\n",
            "  [  2  97  98   4  82]]]\n"
          ]
        }
      ]
    },
    {
      "cell_type": "markdown",
      "source": [
        "10. Work with broadcasting and advanced operations in NumPy.\n",
        " Create a NumPy array arr of shape (3, 3) with random integers between\n",
        " 1 and 20. Perform the following:\n",
        "• Subtract the mean of each row from its respective elements (row-wise\n",
        "normalization).\n",
        "• Create a new array by squaring all the elements in arr.\n",
        "• Find the indices of the top 3 maximum values in the entire array"
      ],
      "metadata": {
        "id": "2Y6E4zScQEFz"
      }
    },
    {
      "cell_type": "code",
      "source": [
        "arr = np.random.randint(1, 21, size=(3, 3))\n",
        "row_means = np.mean(arr, axis=1, keepdims=True)\n",
        "normalized_arr = arr - row_means\n",
        "print(normalized_arr)\n",
        "squared_arr = np.square(arr)\n",
        "print(squared_arr)\n",
        "flattened_arr = arr.flatten()\n",
        "sorted_indices = np.argsort(flattened_arr)[::-1]\n",
        "top_3_indices = sorted_indices[:3]\n",
        "print(top_3_indices)"
      ],
      "metadata": {
        "id": "W-YCkZ_KQIMV",
        "outputId": "5408c32f-409e-4eb4-f4be-c516106077f2",
        "colab": {
          "base_uri": "https://localhost:8080/"
        }
      },
      "execution_count": 32,
      "outputs": [
        {
          "output_type": "stream",
          "name": "stdout",
          "text": [
            "[[ 0.33333333  0.33333333 -0.66666667]\n",
            " [-6.33333333  4.66666667  1.66666667]\n",
            " [ 5.33333333 -3.66666667 -1.66666667]]\n",
            "[[256 256 225]\n",
            " [ 36 289 196]\n",
            " [289  64 100]]\n",
            "[6 4 1]\n"
          ]
        }
      ]
    }
  ]
}