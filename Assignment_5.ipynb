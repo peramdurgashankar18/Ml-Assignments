{
  "nbformat": 4,
  "nbformat_minor": 0,
  "metadata": {
    "colab": {
      "provenance": [],
      "authorship_tag": "ABX9TyOsRQiXXJodvuZXJUjjhb9y",
      "include_colab_link": true
    },
    "kernelspec": {
      "name": "python3",
      "display_name": "Python 3"
    },
    "language_info": {
      "name": "python"
    }
  },
  "cells": [
    {
      "cell_type": "markdown",
      "metadata": {
        "id": "view-in-github",
        "colab_type": "text"
      },
      "source": [
        "<a href=\"https://colab.research.google.com/github/peramdurgashankar18/Ml-Assignments/blob/main/Assignment_5.ipynb\" target=\"_parent\"><img src=\"https://colab.research.google.com/assets/colab-badge.svg\" alt=\"Open In Colab\"/></a>"
      ]
    },
    {
      "cell_type": "markdown",
      "source": [
        "# **TATA IPL AUCTION - CSK TEAM - 2025**"
      ],
      "metadata": {
        "id": "X_qMxSWopS8y"
      }
    },
    {
      "cell_type": "markdown",
      "source": [
        "The Chennai Super Kings (CSK) franchise, renowned for its consistent performance and loyal fanbase, has once again made headlines in the TATA Indian Premier League (IPL) 2025 player auction. Known for their strategic approach, the CSK management has carefully curated a list of players to maintain their dominance in the upcoming season.\n",
        "\n",
        "The auction was a perfect blend of excitement, competition, and surprises, with the CSK team bidding aggressively for both seasoned professionals and promising young talents. From high-profile capped players with international experience to uncapped stars brimming with potential, the squad now boasts a mix of expertise and youthful energy.\n",
        "\n",
        "This blog post delves into the detailed analysis of the players bought by CSK in the auction, including their base prices, final winning bids, and their capped or uncapped status. We’ll also explore trends, comparisons, and key takeaways from the bidding war, offering insights into how these players could shape CSK’s strategy for IPL 2025.\n",
        "\n",
        "Join us as we decode the strategies behind CSK’s selections and take a closer look at the players who will don the iconic yellow jersey this season.\n",
        "\n",
        "The datasets are collected from the Learn Python, Data Viz, Pandas & More | Tutorials | Kaggle .\n",
        "\n",
        "The necessary libraries are imported such as Matplotlib, Seaborn, Pandas, Numpy."
      ],
      "metadata": {
        "id": "3abfHl-lxHMV"
      }
    },
    {
      "cell_type": "code",
      "source": [
        "import pandas as pd\n",
        "import numpy as np\n",
        "import matplotlib.pyplot as plt\n",
        "import seaborn as sns"
      ],
      "metadata": {
        "id": "rwGJBT3wxHdm"
      },
      "execution_count": 6,
      "outputs": []
    },
    {
      "cell_type": "markdown",
      "source": [
        "“CSK_Players_List” is a dataset available in kaggle that contains the base and winning price for different csk players that were recorded."
      ],
      "metadata": {
        "id": "NYvTM1TzxHEb"
      }
    },
    {
      "cell_type": "code",
      "source": [
        "data = pd.read_csv('/content/CSK_Players_List.csv')\n",
        "data"
      ],
      "metadata": {
        "colab": {
          "base_uri": "https://localhost:8080/",
          "height": 676
        },
        "id": "XJ_ELqTwxHWf",
        "outputId": "7e6199c5-4bc0-497b-b33b-5dd4a9c672d0"
      },
      "execution_count": 7,
      "outputs": [
        {
          "output_type": "execute_result",
          "data": {
            "text/plain": [
              "    Sr. No.                Player  Base Price  Winning Bid Capped/Uncapped\n",
              "0         1            Noor Ahmad    20000000    100000000          Capped\n",
              "1         2  Ravichandaran Ashwin    20000000     97500000          Capped\n",
              "2         3          Devon Conway    20000000     62500000          Capped\n",
              "3         4    Syed Khaleel Ahmed    20000000     48000000          Capped\n",
              "4         5       Rachin Ravindra    15000000     40000000          Capped\n",
              "5         6         Anshul Kamboj     3000000     34000000        Uncapped\n",
              "6         7        Rahul Tripathi     7500000     34000000          Capped\n",
              "7         8            Sam Curran    20000000     24000000          Capped\n",
              "8         9      Gurjapneet Singh     3000000     22000000        Uncapped\n",
              "9        10          Nathan Ellis    12500000     20000000          Capped\n",
              "10       11          Deepak Hooda     7500000     17000000          Capped\n",
              "11       12         Jamie Overton    15000000     15000000          Capped\n",
              "12       13         Vijay Shankar     3000000     12000000        Uncapped\n",
              "13       14            Vansh Bedi     3000000      5500000        Uncapped\n",
              "14       15        Andre Siddarth     3000000      3000000        Uncapped\n",
              "15       16         Shreyas Gopal     3000000      3000000        Uncapped\n",
              "16       17     Ramakrishna Ghosh     3000000      3000000        Uncapped\n",
              "17       18     Kamlesh Nagarkoti     3000000      3000000        Uncapped\n",
              "18       19      Mukesh Choudhary     3000000      3000000        Uncapped\n",
              "19       20         Shaik Rasheed     3000000      3000000        Uncapped"
            ],
            "text/html": [
              "\n",
              "  <div id=\"df-768b3e47-1f14-4f1a-ad73-d4a68bc3fe5d\" class=\"colab-df-container\">\n",
              "    <div>\n",
              "<style scoped>\n",
              "    .dataframe tbody tr th:only-of-type {\n",
              "        vertical-align: middle;\n",
              "    }\n",
              "\n",
              "    .dataframe tbody tr th {\n",
              "        vertical-align: top;\n",
              "    }\n",
              "\n",
              "    .dataframe thead th {\n",
              "        text-align: right;\n",
              "    }\n",
              "</style>\n",
              "<table border=\"1\" class=\"dataframe\">\n",
              "  <thead>\n",
              "    <tr style=\"text-align: right;\">\n",
              "      <th></th>\n",
              "      <th>Sr. No.</th>\n",
              "      <th>Player</th>\n",
              "      <th>Base Price</th>\n",
              "      <th>Winning Bid</th>\n",
              "      <th>Capped/Uncapped</th>\n",
              "    </tr>\n",
              "  </thead>\n",
              "  <tbody>\n",
              "    <tr>\n",
              "      <th>0</th>\n",
              "      <td>1</td>\n",
              "      <td>Noor Ahmad</td>\n",
              "      <td>20000000</td>\n",
              "      <td>100000000</td>\n",
              "      <td>Capped</td>\n",
              "    </tr>\n",
              "    <tr>\n",
              "      <th>1</th>\n",
              "      <td>2</td>\n",
              "      <td>Ravichandaran Ashwin</td>\n",
              "      <td>20000000</td>\n",
              "      <td>97500000</td>\n",
              "      <td>Capped</td>\n",
              "    </tr>\n",
              "    <tr>\n",
              "      <th>2</th>\n",
              "      <td>3</td>\n",
              "      <td>Devon Conway</td>\n",
              "      <td>20000000</td>\n",
              "      <td>62500000</td>\n",
              "      <td>Capped</td>\n",
              "    </tr>\n",
              "    <tr>\n",
              "      <th>3</th>\n",
              "      <td>4</td>\n",
              "      <td>Syed Khaleel Ahmed</td>\n",
              "      <td>20000000</td>\n",
              "      <td>48000000</td>\n",
              "      <td>Capped</td>\n",
              "    </tr>\n",
              "    <tr>\n",
              "      <th>4</th>\n",
              "      <td>5</td>\n",
              "      <td>Rachin Ravindra</td>\n",
              "      <td>15000000</td>\n",
              "      <td>40000000</td>\n",
              "      <td>Capped</td>\n",
              "    </tr>\n",
              "    <tr>\n",
              "      <th>5</th>\n",
              "      <td>6</td>\n",
              "      <td>Anshul Kamboj</td>\n",
              "      <td>3000000</td>\n",
              "      <td>34000000</td>\n",
              "      <td>Uncapped</td>\n",
              "    </tr>\n",
              "    <tr>\n",
              "      <th>6</th>\n",
              "      <td>7</td>\n",
              "      <td>Rahul Tripathi</td>\n",
              "      <td>7500000</td>\n",
              "      <td>34000000</td>\n",
              "      <td>Capped</td>\n",
              "    </tr>\n",
              "    <tr>\n",
              "      <th>7</th>\n",
              "      <td>8</td>\n",
              "      <td>Sam Curran</td>\n",
              "      <td>20000000</td>\n",
              "      <td>24000000</td>\n",
              "      <td>Capped</td>\n",
              "    </tr>\n",
              "    <tr>\n",
              "      <th>8</th>\n",
              "      <td>9</td>\n",
              "      <td>Gurjapneet Singh</td>\n",
              "      <td>3000000</td>\n",
              "      <td>22000000</td>\n",
              "      <td>Uncapped</td>\n",
              "    </tr>\n",
              "    <tr>\n",
              "      <th>9</th>\n",
              "      <td>10</td>\n",
              "      <td>Nathan Ellis</td>\n",
              "      <td>12500000</td>\n",
              "      <td>20000000</td>\n",
              "      <td>Capped</td>\n",
              "    </tr>\n",
              "    <tr>\n",
              "      <th>10</th>\n",
              "      <td>11</td>\n",
              "      <td>Deepak Hooda</td>\n",
              "      <td>7500000</td>\n",
              "      <td>17000000</td>\n",
              "      <td>Capped</td>\n",
              "    </tr>\n",
              "    <tr>\n",
              "      <th>11</th>\n",
              "      <td>12</td>\n",
              "      <td>Jamie Overton</td>\n",
              "      <td>15000000</td>\n",
              "      <td>15000000</td>\n",
              "      <td>Capped</td>\n",
              "    </tr>\n",
              "    <tr>\n",
              "      <th>12</th>\n",
              "      <td>13</td>\n",
              "      <td>Vijay Shankar</td>\n",
              "      <td>3000000</td>\n",
              "      <td>12000000</td>\n",
              "      <td>Uncapped</td>\n",
              "    </tr>\n",
              "    <tr>\n",
              "      <th>13</th>\n",
              "      <td>14</td>\n",
              "      <td>Vansh Bedi</td>\n",
              "      <td>3000000</td>\n",
              "      <td>5500000</td>\n",
              "      <td>Uncapped</td>\n",
              "    </tr>\n",
              "    <tr>\n",
              "      <th>14</th>\n",
              "      <td>15</td>\n",
              "      <td>Andre Siddarth</td>\n",
              "      <td>3000000</td>\n",
              "      <td>3000000</td>\n",
              "      <td>Uncapped</td>\n",
              "    </tr>\n",
              "    <tr>\n",
              "      <th>15</th>\n",
              "      <td>16</td>\n",
              "      <td>Shreyas Gopal</td>\n",
              "      <td>3000000</td>\n",
              "      <td>3000000</td>\n",
              "      <td>Uncapped</td>\n",
              "    </tr>\n",
              "    <tr>\n",
              "      <th>16</th>\n",
              "      <td>17</td>\n",
              "      <td>Ramakrishna Ghosh</td>\n",
              "      <td>3000000</td>\n",
              "      <td>3000000</td>\n",
              "      <td>Uncapped</td>\n",
              "    </tr>\n",
              "    <tr>\n",
              "      <th>17</th>\n",
              "      <td>18</td>\n",
              "      <td>Kamlesh Nagarkoti</td>\n",
              "      <td>3000000</td>\n",
              "      <td>3000000</td>\n",
              "      <td>Uncapped</td>\n",
              "    </tr>\n",
              "    <tr>\n",
              "      <th>18</th>\n",
              "      <td>19</td>\n",
              "      <td>Mukesh Choudhary</td>\n",
              "      <td>3000000</td>\n",
              "      <td>3000000</td>\n",
              "      <td>Uncapped</td>\n",
              "    </tr>\n",
              "    <tr>\n",
              "      <th>19</th>\n",
              "      <td>20</td>\n",
              "      <td>Shaik Rasheed</td>\n",
              "      <td>3000000</td>\n",
              "      <td>3000000</td>\n",
              "      <td>Uncapped</td>\n",
              "    </tr>\n",
              "  </tbody>\n",
              "</table>\n",
              "</div>\n",
              "    <div class=\"colab-df-buttons\">\n",
              "\n",
              "  <div class=\"colab-df-container\">\n",
              "    <button class=\"colab-df-convert\" onclick=\"convertToInteractive('df-768b3e47-1f14-4f1a-ad73-d4a68bc3fe5d')\"\n",
              "            title=\"Convert this dataframe to an interactive table.\"\n",
              "            style=\"display:none;\">\n",
              "\n",
              "  <svg xmlns=\"http://www.w3.org/2000/svg\" height=\"24px\" viewBox=\"0 -960 960 960\">\n",
              "    <path d=\"M120-120v-720h720v720H120Zm60-500h600v-160H180v160Zm220 220h160v-160H400v160Zm0 220h160v-160H400v160ZM180-400h160v-160H180v160Zm440 0h160v-160H620v160ZM180-180h160v-160H180v160Zm440 0h160v-160H620v160Z\"/>\n",
              "  </svg>\n",
              "    </button>\n",
              "\n",
              "  <style>\n",
              "    .colab-df-container {\n",
              "      display:flex;\n",
              "      gap: 12px;\n",
              "    }\n",
              "\n",
              "    .colab-df-convert {\n",
              "      background-color: #E8F0FE;\n",
              "      border: none;\n",
              "      border-radius: 50%;\n",
              "      cursor: pointer;\n",
              "      display: none;\n",
              "      fill: #1967D2;\n",
              "      height: 32px;\n",
              "      padding: 0 0 0 0;\n",
              "      width: 32px;\n",
              "    }\n",
              "\n",
              "    .colab-df-convert:hover {\n",
              "      background-color: #E2EBFA;\n",
              "      box-shadow: 0px 1px 2px rgba(60, 64, 67, 0.3), 0px 1px 3px 1px rgba(60, 64, 67, 0.15);\n",
              "      fill: #174EA6;\n",
              "    }\n",
              "\n",
              "    .colab-df-buttons div {\n",
              "      margin-bottom: 4px;\n",
              "    }\n",
              "\n",
              "    [theme=dark] .colab-df-convert {\n",
              "      background-color: #3B4455;\n",
              "      fill: #D2E3FC;\n",
              "    }\n",
              "\n",
              "    [theme=dark] .colab-df-convert:hover {\n",
              "      background-color: #434B5C;\n",
              "      box-shadow: 0px 1px 3px 1px rgba(0, 0, 0, 0.15);\n",
              "      filter: drop-shadow(0px 1px 2px rgba(0, 0, 0, 0.3));\n",
              "      fill: #FFFFFF;\n",
              "    }\n",
              "  </style>\n",
              "\n",
              "    <script>\n",
              "      const buttonEl =\n",
              "        document.querySelector('#df-768b3e47-1f14-4f1a-ad73-d4a68bc3fe5d button.colab-df-convert');\n",
              "      buttonEl.style.display =\n",
              "        google.colab.kernel.accessAllowed ? 'block' : 'none';\n",
              "\n",
              "      async function convertToInteractive(key) {\n",
              "        const element = document.querySelector('#df-768b3e47-1f14-4f1a-ad73-d4a68bc3fe5d');\n",
              "        const dataTable =\n",
              "          await google.colab.kernel.invokeFunction('convertToInteractive',\n",
              "                                                    [key], {});\n",
              "        if (!dataTable) return;\n",
              "\n",
              "        const docLinkHtml = 'Like what you see? Visit the ' +\n",
              "          '<a target=\"_blank\" href=https://colab.research.google.com/notebooks/data_table.ipynb>data table notebook</a>'\n",
              "          + ' to learn more about interactive tables.';\n",
              "        element.innerHTML = '';\n",
              "        dataTable['output_type'] = 'display_data';\n",
              "        await google.colab.output.renderOutput(dataTable, element);\n",
              "        const docLink = document.createElement('div');\n",
              "        docLink.innerHTML = docLinkHtml;\n",
              "        element.appendChild(docLink);\n",
              "      }\n",
              "    </script>\n",
              "  </div>\n",
              "\n",
              "\n",
              "<div id=\"df-a9943a32-84fc-4624-b403-febc6da4697e\">\n",
              "  <button class=\"colab-df-quickchart\" onclick=\"quickchart('df-a9943a32-84fc-4624-b403-febc6da4697e')\"\n",
              "            title=\"Suggest charts\"\n",
              "            style=\"display:none;\">\n",
              "\n",
              "<svg xmlns=\"http://www.w3.org/2000/svg\" height=\"24px\"viewBox=\"0 0 24 24\"\n",
              "     width=\"24px\">\n",
              "    <g>\n",
              "        <path d=\"M19 3H5c-1.1 0-2 .9-2 2v14c0 1.1.9 2 2 2h14c1.1 0 2-.9 2-2V5c0-1.1-.9-2-2-2zM9 17H7v-7h2v7zm4 0h-2V7h2v10zm4 0h-2v-4h2v4z\"/>\n",
              "    </g>\n",
              "</svg>\n",
              "  </button>\n",
              "\n",
              "<style>\n",
              "  .colab-df-quickchart {\n",
              "      --bg-color: #E8F0FE;\n",
              "      --fill-color: #1967D2;\n",
              "      --hover-bg-color: #E2EBFA;\n",
              "      --hover-fill-color: #174EA6;\n",
              "      --disabled-fill-color: #AAA;\n",
              "      --disabled-bg-color: #DDD;\n",
              "  }\n",
              "\n",
              "  [theme=dark] .colab-df-quickchart {\n",
              "      --bg-color: #3B4455;\n",
              "      --fill-color: #D2E3FC;\n",
              "      --hover-bg-color: #434B5C;\n",
              "      --hover-fill-color: #FFFFFF;\n",
              "      --disabled-bg-color: #3B4455;\n",
              "      --disabled-fill-color: #666;\n",
              "  }\n",
              "\n",
              "  .colab-df-quickchart {\n",
              "    background-color: var(--bg-color);\n",
              "    border: none;\n",
              "    border-radius: 50%;\n",
              "    cursor: pointer;\n",
              "    display: none;\n",
              "    fill: var(--fill-color);\n",
              "    height: 32px;\n",
              "    padding: 0;\n",
              "    width: 32px;\n",
              "  }\n",
              "\n",
              "  .colab-df-quickchart:hover {\n",
              "    background-color: var(--hover-bg-color);\n",
              "    box-shadow: 0 1px 2px rgba(60, 64, 67, 0.3), 0 1px 3px 1px rgba(60, 64, 67, 0.15);\n",
              "    fill: var(--button-hover-fill-color);\n",
              "  }\n",
              "\n",
              "  .colab-df-quickchart-complete:disabled,\n",
              "  .colab-df-quickchart-complete:disabled:hover {\n",
              "    background-color: var(--disabled-bg-color);\n",
              "    fill: var(--disabled-fill-color);\n",
              "    box-shadow: none;\n",
              "  }\n",
              "\n",
              "  .colab-df-spinner {\n",
              "    border: 2px solid var(--fill-color);\n",
              "    border-color: transparent;\n",
              "    border-bottom-color: var(--fill-color);\n",
              "    animation:\n",
              "      spin 1s steps(1) infinite;\n",
              "  }\n",
              "\n",
              "  @keyframes spin {\n",
              "    0% {\n",
              "      border-color: transparent;\n",
              "      border-bottom-color: var(--fill-color);\n",
              "      border-left-color: var(--fill-color);\n",
              "    }\n",
              "    20% {\n",
              "      border-color: transparent;\n",
              "      border-left-color: var(--fill-color);\n",
              "      border-top-color: var(--fill-color);\n",
              "    }\n",
              "    30% {\n",
              "      border-color: transparent;\n",
              "      border-left-color: var(--fill-color);\n",
              "      border-top-color: var(--fill-color);\n",
              "      border-right-color: var(--fill-color);\n",
              "    }\n",
              "    40% {\n",
              "      border-color: transparent;\n",
              "      border-right-color: var(--fill-color);\n",
              "      border-top-color: var(--fill-color);\n",
              "    }\n",
              "    60% {\n",
              "      border-color: transparent;\n",
              "      border-right-color: var(--fill-color);\n",
              "    }\n",
              "    80% {\n",
              "      border-color: transparent;\n",
              "      border-right-color: var(--fill-color);\n",
              "      border-bottom-color: var(--fill-color);\n",
              "    }\n",
              "    90% {\n",
              "      border-color: transparent;\n",
              "      border-bottom-color: var(--fill-color);\n",
              "    }\n",
              "  }\n",
              "</style>\n",
              "\n",
              "  <script>\n",
              "    async function quickchart(key) {\n",
              "      const quickchartButtonEl =\n",
              "        document.querySelector('#' + key + ' button');\n",
              "      quickchartButtonEl.disabled = true;  // To prevent multiple clicks.\n",
              "      quickchartButtonEl.classList.add('colab-df-spinner');\n",
              "      try {\n",
              "        const charts = await google.colab.kernel.invokeFunction(\n",
              "            'suggestCharts', [key], {});\n",
              "      } catch (error) {\n",
              "        console.error('Error during call to suggestCharts:', error);\n",
              "      }\n",
              "      quickchartButtonEl.classList.remove('colab-df-spinner');\n",
              "      quickchartButtonEl.classList.add('colab-df-quickchart-complete');\n",
              "    }\n",
              "    (() => {\n",
              "      let quickchartButtonEl =\n",
              "        document.querySelector('#df-a9943a32-84fc-4624-b403-febc6da4697e button');\n",
              "      quickchartButtonEl.style.display =\n",
              "        google.colab.kernel.accessAllowed ? 'block' : 'none';\n",
              "    })();\n",
              "  </script>\n",
              "</div>\n",
              "\n",
              "  <div id=\"id_17d80c1a-c5e4-4fb1-bb35-571b0da2c0d1\">\n",
              "    <style>\n",
              "      .colab-df-generate {\n",
              "        background-color: #E8F0FE;\n",
              "        border: none;\n",
              "        border-radius: 50%;\n",
              "        cursor: pointer;\n",
              "        display: none;\n",
              "        fill: #1967D2;\n",
              "        height: 32px;\n",
              "        padding: 0 0 0 0;\n",
              "        width: 32px;\n",
              "      }\n",
              "\n",
              "      .colab-df-generate:hover {\n",
              "        background-color: #E2EBFA;\n",
              "        box-shadow: 0px 1px 2px rgba(60, 64, 67, 0.3), 0px 1px 3px 1px rgba(60, 64, 67, 0.15);\n",
              "        fill: #174EA6;\n",
              "      }\n",
              "\n",
              "      [theme=dark] .colab-df-generate {\n",
              "        background-color: #3B4455;\n",
              "        fill: #D2E3FC;\n",
              "      }\n",
              "\n",
              "      [theme=dark] .colab-df-generate:hover {\n",
              "        background-color: #434B5C;\n",
              "        box-shadow: 0px 1px 3px 1px rgba(0, 0, 0, 0.15);\n",
              "        filter: drop-shadow(0px 1px 2px rgba(0, 0, 0, 0.3));\n",
              "        fill: #FFFFFF;\n",
              "      }\n",
              "    </style>\n",
              "    <button class=\"colab-df-generate\" onclick=\"generateWithVariable('data')\"\n",
              "            title=\"Generate code using this dataframe.\"\n",
              "            style=\"display:none;\">\n",
              "\n",
              "  <svg xmlns=\"http://www.w3.org/2000/svg\" height=\"24px\"viewBox=\"0 0 24 24\"\n",
              "       width=\"24px\">\n",
              "    <path d=\"M7,19H8.4L18.45,9,17,7.55,7,17.6ZM5,21V16.75L18.45,3.32a2,2,0,0,1,2.83,0l1.4,1.43a1.91,1.91,0,0,1,.58,1.4,1.91,1.91,0,0,1-.58,1.4L9.25,21ZM18.45,9,17,7.55Zm-12,3A5.31,5.31,0,0,0,4.9,8.1,5.31,5.31,0,0,0,1,6.5,5.31,5.31,0,0,0,4.9,4.9,5.31,5.31,0,0,0,6.5,1,5.31,5.31,0,0,0,8.1,4.9,5.31,5.31,0,0,0,12,6.5,5.46,5.46,0,0,0,6.5,12Z\"/>\n",
              "  </svg>\n",
              "    </button>\n",
              "    <script>\n",
              "      (() => {\n",
              "      const buttonEl =\n",
              "        document.querySelector('#id_17d80c1a-c5e4-4fb1-bb35-571b0da2c0d1 button.colab-df-generate');\n",
              "      buttonEl.style.display =\n",
              "        google.colab.kernel.accessAllowed ? 'block' : 'none';\n",
              "\n",
              "      buttonEl.onclick = () => {\n",
              "        google.colab.notebook.generateWithVariable('data');\n",
              "      }\n",
              "      })();\n",
              "    </script>\n",
              "  </div>\n",
              "\n",
              "    </div>\n",
              "  </div>\n"
            ],
            "application/vnd.google.colaboratory.intrinsic+json": {
              "type": "dataframe",
              "variable_name": "data",
              "summary": "{\n  \"name\": \"data\",\n  \"rows\": 20,\n  \"fields\": [\n    {\n      \"column\": \"Sr. No.\",\n      \"properties\": {\n        \"dtype\": \"number\",\n        \"std\": 5,\n        \"min\": 1,\n        \"max\": 20,\n        \"num_unique_values\": 20,\n        \"samples\": [\n          1,\n          18,\n          16\n        ],\n        \"semantic_type\": \"\",\n        \"description\": \"\"\n      }\n    },\n    {\n      \"column\": \"Player\",\n      \"properties\": {\n        \"dtype\": \"string\",\n        \"num_unique_values\": 20,\n        \"samples\": [\n          \"Noor Ahmad\",\n          \"Kamlesh Nagarkoti\",\n          \"Shreyas Gopal\"\n        ],\n        \"semantic_type\": \"\",\n        \"description\": \"\"\n      }\n    },\n    {\n      \"column\": \"Base Price\",\n      \"properties\": {\n        \"dtype\": \"number\",\n        \"std\": 7437237,\n        \"min\": 3000000,\n        \"max\": 20000000,\n        \"num_unique_values\": 5,\n        \"samples\": [\n          15000000,\n          12500000,\n          3000000\n        ],\n        \"semantic_type\": \"\",\n        \"description\": \"\"\n      }\n    },\n    {\n      \"column\": \"Winning Bid\",\n      \"properties\": {\n        \"dtype\": \"number\",\n        \"std\": 29676534,\n        \"min\": 3000000,\n        \"max\": 100000000,\n        \"num_unique_values\": 14,\n        \"samples\": [\n          17000000,\n          12000000,\n          100000000\n        ],\n        \"semantic_type\": \"\",\n        \"description\": \"\"\n      }\n    },\n    {\n      \"column\": \"Capped/Uncapped\",\n      \"properties\": {\n        \"dtype\": \"category\",\n        \"num_unique_values\": 2,\n        \"samples\": [\n          \"Uncapped\",\n          \"Capped\"\n        ],\n        \"semantic_type\": \"\",\n        \"description\": \"\"\n      }\n    }\n  ]\n}"
            }
          },
          "metadata": {},
          "execution_count": 7
        }
      ]
    },
    {
      "cell_type": "markdown",
      "source": [
        "\n",
        "\n",
        "*  From the above Dataframe , we observed that there are 20 different selected csk players that were selected in TATA IPL 2025.\n",
        "\n",
        "*   Here we observe the records of the base and winning price of the players and they were capped or uncapped players.\n",
        "\n"
      ],
      "metadata": {
        "id": "JIrns0t_MCa5"
      }
    },
    {
      "cell_type": "markdown",
      "source": [
        "**Data Cleaning and Preparation :**"
      ],
      "metadata": {
        "id": "CtNGDzxvOQ1t"
      }
    },
    {
      "cell_type": "markdown",
      "source": [
        "The dataset underwent essential preprocessing to ensure accuracy and consistency for analysis. Numerical columns, such as Base Price and Winning Bid, were converted to integers for easier computation. Missing or incorrect values were checked and handled to avoid discrepancies. The dataset was then structured to categorize players as Capped or Uncapped, enabling a detailed comparison and visualization.\n",
        "\n"
      ],
      "metadata": {
        "id": "iRjuA_CeMNDR"
      }
    },
    {
      "cell_type": "code",
      "source": [
        "data['Base Price'] = data['Base Price'].astype(int)\n",
        "data['Winning Bid'] = data['Winning Bid'].astype(int)"
      ],
      "metadata": {
        "id": "uWSoZPDVxG3V"
      },
      "execution_count": 26,
      "outputs": []
    },
    {
      "cell_type": "markdown",
      "source": [
        "**Overview of the Dataset :**"
      ],
      "metadata": {
        "id": "M9Ew2uP8ObGH"
      }
    },
    {
      "cell_type": "markdown",
      "source": [
        "The dataset captures details of players bought by Chennai Super Kings (CSK) in the TATA IPL 2025 auction. It includes key attributes like player names, base prices, winning bids, and their status as capped or uncapped. This structured information provides insights into auction dynamics and CSK’s selection strategy. The data serves as the foundation for analyzing price trends, player categories, and bidding outcomes.\n",
        "\n"
      ],
      "metadata": {
        "id": "YBOQW-9_MYdh"
      }
    },
    {
      "cell_type": "code",
      "source": [
        "print(\"Dataset Overview:\")\n",
        "print(data.info())\n",
        "print(\"\\nFirst 5 rows of the dataset:\")\n",
        "print(data.head())"
      ],
      "metadata": {
        "colab": {
          "base_uri": "https://localhost:8080/"
        },
        "id": "UCl0ptvkxGqf",
        "outputId": "ce18fc7b-8287-46e0-b25a-4be010f41136"
      },
      "execution_count": 22,
      "outputs": [
        {
          "output_type": "stream",
          "name": "stdout",
          "text": [
            "Dataset Overview:\n",
            "<class 'pandas.core.frame.DataFrame'>\n",
            "RangeIndex: 20 entries, 0 to 19\n",
            "Data columns (total 5 columns):\n",
            " #   Column           Non-Null Count  Dtype \n",
            "---  ------           --------------  ----- \n",
            " 0   Sr. No.          20 non-null     int64 \n",
            " 1   Player           20 non-null     object\n",
            " 2   Base Price       20 non-null     int64 \n",
            " 3   Winning Bid      20 non-null     int64 \n",
            " 4   Capped/Uncapped  20 non-null     object\n",
            "dtypes: int64(3), object(2)\n",
            "memory usage: 928.0+ bytes\n",
            "None\n",
            "\n",
            "First 5 rows of the dataset:\n",
            "   Sr. No.                Player  Base Price  Winning Bid Capped/Uncapped\n",
            "0        1            Noor Ahmad    20000000    100000000          Capped\n",
            "1        2  Ravichandaran Ashwin    20000000     97500000          Capped\n",
            "2        3          Devon Conway    20000000     62500000          Capped\n",
            "3        4    Syed Khaleel Ahmed    20000000     48000000          Capped\n",
            "4        5       Rachin Ravindra    15000000     40000000          Capped\n"
          ]
        }
      ]
    },
    {
      "cell_type": "markdown",
      "source": [
        "## Analysis and Visualizations :"
      ],
      "metadata": {
        "id": "M1rw4feHxVc-"
      }
    },
    {
      "cell_type": "markdown",
      "source": [
        "\n",
        "\n",
        "> Distribution of Winning Bid :\n",
        "\n",
        "\n",
        "\n"
      ],
      "metadata": {
        "id": "j_jtKZnzNClD"
      }
    },
    {
      "cell_type": "markdown",
      "source": [
        "The distribution of winning bids reveals the spending patterns of CSK during the TATA IPL 2025 auction. A histogram plotted using the winning bid amounts shows the frequency of bids across different price ranges. The distribution highlights whether CSK focused more on acquiring high-value players or balanced their strategy across varying price brackets. The presence of a smooth curve (via kernel density estimation) provides deeper insights into bid concentration and outliers in the data."
      ],
      "metadata": {
        "id": "FNudpcXoNHAd"
      }
    },
    {
      "cell_type": "code",
      "source": [
        "plt.figure(figsize=(10, 6))\n",
        "sns.histplot(data['Winning Bid'], bins=10, kde=True, color='blue')\n",
        "plt.title('Distribution of Winning Bids')\n",
        "plt.xlabel('Winning Bid (in Rs)')\n",
        "plt.ylabel('Frequency')\n",
        "plt.grid(True)\n",
        "plt.show()"
      ],
      "metadata": {
        "colab": {
          "base_uri": "https://localhost:8080/",
          "height": 564
        },
        "id": "_x-Jg8Wgx8wS",
        "outputId": "baa4d16a-502d-4768-fe0b-eba3cb4ca223"
      },
      "execution_count": 13,
      "outputs": [
        {
          "output_type": "display_data",
          "data": {
            "text/plain": [
              "<Figure size 1000x600 with 1 Axes>"
            ],
            "image/png": "[encoded data removed]"
          },
          "metadata": {}
        }
      ]
    },
    {
      "cell_type": "markdown",
      "source": [
        "\n",
        "\n",
        "> Comparison of Base Price and Winning Bid :\n",
        "\n"
      ],
      "metadata": {
        "id": "yT1ODXKxNQlj"
      }
    },
    {
      "cell_type": "markdown",
      "source": [
        "The comparison of base price and winning bid provides insights into the bidding intensity for players. A scatter plot visualizes the relationship between these two variables, showcasing how certain players fetched significantly higher bids than their base prices. This analysis highlights the players who were highly contested in the auction."
      ],
      "metadata": {
        "id": "h6M6gyHbNQZT"
      }
    },
    {
      "cell_type": "code",
      "source": [
        "plt.figure(figsize=(12, 6))\n",
        "plt.scatter(data['Base Price'], data['Winning Bid'], color='orange', alpha=0.7)\n",
        "plt.title('Base Price vs Winning Bid')\n",
        "plt.xlabel('Base Price (in Rs)')\n",
        "plt.ylabel('Winning Bid (in Rs)')\n",
        "plt.grid(True)\n",
        "plt.show()"
      ],
      "metadata": {
        "colab": {
          "base_uri": "https://localhost:8080/",
          "height": 564
        },
        "id": "-Tx4esCyx8pG",
        "outputId": "71cb2542-17b6-49b4-d0db-c50e25b50f61"
      },
      "execution_count": 14,
      "outputs": [
        {
          "output_type": "display_data",
          "data": {
            "text/plain": [
              "<Figure size 1200x600 with 1 Axes>"
            ],
            "image/png": "[encoded data removed]"
          },
          "metadata": {}
        }
      ]
    },
    {
      "cell_type": "markdown",
      "source": [
        "\n",
        "\n",
        "> Analysis of Capped vs. Uncapped Players :\n",
        "\n"
      ],
      "metadata": {
        "id": "3vk2uQuANZGv"
      }
    },
    {
      "cell_type": "markdown",
      "source": [
        "Players are categorized into two groups: Capped (with international experience) and Uncapped (domestic or emerging talents). A bar chart illustrates the number of capped and uncapped players bought by CSK. This analysis helps identify whether CSK prioritized seasoned players or invested in young prospects for the 2025 season."
      ],
      "metadata": {
        "id": "j-DTQayhNY-q"
      }
    },
    {
      "cell_type": "code",
      "source": [
        "# c) Analysis of Capped vs Uncapped Players\n",
        "capped_data = data[data['Capped/Uncapped'] == 'Capped']\n",
        "uncapped_data = data[data['Capped/Uncapped'] == 'Uncapped']\n",
        "\n",
        "plt.figure(figsize=(10, 6))\n",
        "sns.countplot(x='Capped/Uncapped', data=data, palette='viridis')\n",
        "plt.title('Capped vs Uncapped Players')\n",
        "plt.xlabel('Category')\n",
        "plt.ylabel('Number of Players')\n",
        "plt.grid(True)\n",
        "plt.show()"
      ],
      "metadata": {
        "colab": {
          "base_uri": "https://localhost:8080/",
          "height": 655
        },
        "id": "I7oe1CTsx8hH",
        "outputId": "9eb8df3f-959d-4b91-be8e-e98e2549b1b1"
      },
      "execution_count": 15,
      "outputs": [
        {
          "output_type": "stream",
          "name": "stderr",
          "text": [
            "<ipython-input-15-c074ed55eb38>:6: FutureWarning: \n",
            "\n",
            "Passing `palette` without assigning `hue` is deprecated and will be removed in v0.14.0. Assign the `x` variable to `hue` and set `legend=False` for the same effect.\n",
            "\n",
            "  sns.countplot(x='Capped/Uncapped', data=data, palette='viridis')\n"
          ]
        },
        {
          "output_type": "display_data",
          "data": {
            "text/plain": [
              "<Figure size 1000x600 with 1 Axes>"
            ],
            "image/png": "[encoded data removed]"
          },
          "metadata": {}
        }
      ]
    },
    {
      "cell_type": "markdown",
      "source": [
        "\n",
        "\n",
        "> Average Winning Bid for Capped vs. Uncapped Players :\n",
        "\n"
      ],
      "metadata": {
        "id": "J0h42GkGNjkV"
      }
    },
    {
      "cell_type": "markdown",
      "source": [
        "The average winning bid for capped players is calculated as a measure of CSK’s investment in experienced talent. Similarly, the average for uncapped players reflects their potential value. This comparison reveals a significant difference, with capped players generally commanding higher bids due to their proven track record, while uncapped players often offer cost-effective options."
      ],
      "metadata": {
        "id": "JY4Zgv2GyQFE"
      }
    },
    {
      "cell_type": "code",
      "source": [
        "# Average Winning Bid for Capped vs Uncapped Players\n",
        "avg_capped_bid = capped_data['Winning Bid'].mean()\n",
        "avg_uncapped_bid = uncapped_data['Winning Bid'].mean()\n",
        "\n",
        "print(f\"Average Winning Bid for Capped Players: {avg_capped_bid}\")\n",
        "print(f\"Average Winning Bid for Uncapped Players: {avg_uncapped_bid}\")"
      ],
      "metadata": {
        "colab": {
          "base_uri": "https://localhost:8080/"
        },
        "id": "y64DF3YyyN37",
        "outputId": "66f97f1d-c58d-4523-a560-1b0e446d27e2"
      },
      "execution_count": 23,
      "outputs": [
        {
          "output_type": "stream",
          "name": "stdout",
          "text": [
            "Average Winning Bid for Capped Players: 45800000.0\n",
            "Average Winning Bid for Uncapped Players: 9150000.0\n"
          ]
        }
      ]
    },
    {
      "cell_type": "markdown",
      "source": [
        "\n",
        "\n",
        "> Top 5 Players by Winning Bid :\n",
        "\n"
      ],
      "metadata": {
        "id": "84bdTTkzNsmn"
      }
    },
    {
      "cell_type": "markdown",
      "source": [
        "The top five players, ranked by their winning bids, showcase the most valued acquisitions by CSK in the 2025 auction. These players often carry expectations of being game-changers or fulfilling key roles in the team’s strategy. The list includes their names, base prices, and winning bids, emphasizing the premium placed on their skills."
      ],
      "metadata": {
        "id": "IE7H-mRXNse6"
      }
    },
    {
      "cell_type": "code",
      "source": [
        "# d) Top 5 Players by Winning Bid\n",
        "top_5_players = data.sort_values(by='Winning Bid', ascending=False).head(5)\n",
        "print(\"Top 5 Players by Winning Bid:\")\n",
        "print(top_5_players)"
      ],
      "metadata": {
        "colab": {
          "base_uri": "https://localhost:8080/"
        },
        "id": "DytqzUssxdwF",
        "outputId": "e60dde4d-33d1-465e-f55d-56ba8e440a41"
      },
      "execution_count": 24,
      "outputs": [
        {
          "output_type": "stream",
          "name": "stdout",
          "text": [
            "Top 5 Players by Winning Bid:\n",
            "   Sr. No.                Player  Base Price  Winning Bid Capped/Uncapped\n",
            "0        1            Noor Ahmad    20000000    100000000          Capped\n",
            "1        2  Ravichandaran Ashwin    20000000     97500000          Capped\n",
            "2        3          Devon Conway    20000000     62500000          Capped\n",
            "3        4    Syed Khaleel Ahmed    20000000     48000000          Capped\n",
            "4        5       Rachin Ravindra    15000000     40000000          Capped\n"
          ]
        }
      ]
    },
    {
      "cell_type": "markdown",
      "source": [
        "\n",
        "\n",
        "> Visualization for Top 5 Players :\n",
        "\n"
      ],
      "metadata": {
        "id": "oMR4e1NgNzQ0"
      }
    },
    {
      "cell_type": "markdown",
      "source": [
        "A bar chart highlights the top 5 players by their winning bid amounts, with their names on the x-axis and bid amounts on the y-axis. The chart provides a clear visual representation of CSK’s biggest investments in the auction. It offers a quick view of the franchise’s key priorities and star acquisitions for the upcoming season.\n"
      ],
      "metadata": {
        "id": "8WM0eMBNxd-k"
      }
    },
    {
      "cell_type": "code",
      "source": [
        "# Visualization for Top 5 Players\n",
        "plt.figure(figsize=(10, 6))\n",
        "sns.barplot(x='Player', y='Winning Bid', data=top_5_players, palette='coolwarm')\n",
        "plt.title('Top 5 Players by Winning Bid')\n",
        "plt.xlabel('Player')\n",
        "plt.ylabel('Winning Bid (in Rs)')\n",
        "plt.xticks(rotation=45)\n",
        "plt.grid(True)\n",
        "plt.show()"
      ],
      "metadata": {
        "colab": {
          "base_uri": "https://localhost:8080/",
          "height": 763
        },
        "id": "j9I9FfvOxegx",
        "outputId": "822e70f0-9586-4d83-b2eb-3d7dd8dce68a"
      },
      "execution_count": 25,
      "outputs": [
        {
          "output_type": "stream",
          "name": "stderr",
          "text": [
            "<ipython-input-25-e863ba9d6a55>:3: FutureWarning: \n",
            "\n",
            "Passing `palette` without assigning `hue` is deprecated and will be removed in v0.14.0. Assign the `x` variable to `hue` and set `legend=False` for the same effect.\n",
            "\n",
            "  sns.barplot(x='Player', y='Winning Bid', data=top_5_players, palette='coolwarm')\n"
          ]
        },
        {
          "output_type": "display_data",
          "data": {
            "text/plain": [
              "<Figure size 1000x600 with 1 Axes>"
            ],
            "image/png": "[encoded data removed]"
          },
          "metadata": {}
        }
      ]
    },
    {
      "cell_type": "markdown",
      "source": [
        "### **Conclusion :**"
      ],
      "metadata": {
        "id": "kisB0C99N82l"
      }
    },
    {
      "cell_type": "markdown",
      "source": [
        "The TATA IPL 2025 auction proved to be an eventful chapter for the Chennai Super Kings, showcasing their strategic brilliance and commitment to building a balanced team. Through a mix of high-value acquisitions and smart budget buys, CSK has assembled a roster that combines experienced campaigners with promising young talents.\n",
        "\n",
        "Our analysis of the dataset sheds light on the team’s focus areas, spending patterns, and the players they considered crucial for the upcoming season. From the distribution of winning bids to the comparison of capped and uncapped players, each aspect highlights CSK’s calculated approach to the auction. The top 5 player selections underscore the franchise’s intent to reinforce their squad with match-winning potential.\n",
        "\n",
        "As the IPL 2025 season approaches, CSK fans can look forward to witnessing these players don the yellow jersey and contribute to the team’s pursuit of another title. With the perfect blend of strategy, talent, and leadership, CSK is all set to script yet another exciting journey in the IPL.\n",
        "\n",
        "\n",
        "\n",
        "\n",
        "\n"
      ],
      "metadata": {
        "id": "A11q9IAwOBMp"
      }
    }
  ]
}